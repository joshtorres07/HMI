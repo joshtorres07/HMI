{
 "cells": [
  {
   "cell_type": "code",
   "execution_count": 12,
   "metadata": {
    "collapsed": true,
    "ExecuteTime": {
     "end_time": "2023-09-02T05:13:51.986265Z",
     "start_time": "2023-09-02T05:13:51.976782900Z"
    }
   },
   "outputs": [],
   "source": [
    "import pandas as pd"
   ]
  },
  {
   "cell_type": "code",
   "execution_count": 12,
   "outputs": [],
   "source": [],
   "metadata": {
    "collapsed": false,
    "ExecuteTime": {
     "end_time": "2023-09-02T05:13:52.371149700Z",
     "start_time": "2023-09-02T05:13:52.365640800Z"
    }
   }
  },
  {
   "cell_type": "code",
   "execution_count": 15,
   "outputs": [],
   "source": [
    "df = pd.read_csv('ELEMENTOS.CSV', encoding='utf-8')"
   ],
   "metadata": {
    "collapsed": false,
    "ExecuteTime": {
     "end_time": "2023-09-02T05:14:07.413016600Z",
     "start_time": "2023-09-02T05:14:07.393207200Z"
    }
   }
  },
  {
   "cell_type": "code",
   "execution_count": 16,
   "outputs": [
    {
     "data": {
      "text/plain": "                                         Elemento  \\\n0                                  Tipos de datos   \n1                                       Variables   \n2                                      Constantes   \n3                                       Literales   \n4                                 Identificadores   \n5                                     Comentarios   \n6                       Estructura de un programa   \n7                             Palabras reservadas   \n8             Sentencias/instrucciones (sintaxis)   \n9                                      Operadores   \n10                                    Expresiones   \n11                               Entrada de datos   \n12                                Salida de datos   \n13           Estructura de control: condicionales   \n14              Estructura de control: iterativas   \n15  Métodos/funciones/procedimientos/subprogramas   \n16                            Usos o aplicaciones   \n17         Observaciones/Comentarios estudiante 1   \n18         Observaciones/Comentarios estudiante 2   \n\n                                      Estructurado  \\\n0                               Primitivos simples   \n1                                Variables simples   \n2                                       Constantes   \n3                                Valores literales   \n4                 Nombres de variables y funciones   \n5                             Comentarios de texto   \n6                       Secuencia de instrucciones   \n7                          Limitadas y específicas   \n8   Estructuras de control (-if -for -while -etc.)   \n9     Operadores aritméticos y lógicos específicos   \n10   Expresiones aritméticas y lógicas específicas   \n11                   Lectura de teclado y archivos   \n12                Impresión en pantalla y archivos   \n13                               -if -switch -etc.   \n14                               -for -while -etc.   \n15                                       Funciones   \n16                     Amplia gama de aplicaciones   \n17          Enfoque en estructura y procedimientos   \n18       Enfoque en estructura de control de flujo   \n\n                                  Orientado a objetos  \\\n0                                    Objetos y clases   \n1                                Atributos de objetos   \n2                                          Constantes   \n3                                             Objetos   \n4                         Nombres de objetos y clases   \n5                                Comentarios de texto   \n6                                    Clases y objetos   \n7                                             Mínimas   \n8   Métodos y funciones específicas para control d...   \n9    Métodos y funciones específicos para operaciones   \n10                            Expresiones con objetos   \n11  Métodos y funciones específicas para entrada d...   \n12  Métodos y funciones específicas para salida de...   \n13  Métodos y funciones específicas para control d...   \n14        Métodos y funciones específicas para bucles   \n15  Métodos y funciones específicas para encapsula...   \n16                  Desarrollo de software en objetos   \n17              Enfoque en encapsulamiento y herencia   \n18                                                NaN   \n\n                          Funcional                       Lógico  \n0                         Funciones                   Predicados  \n1                         Variables                    Variables  \n2                         Variables                    Variables  \n3                         Funciones                   Predicados  \n4              Nombres de funciones         Nombres de variables  \n5                       Comentarios                  Comentarios  \n6           Funciones de alto orden  Reglas de inferencia lógica  \n7                           Mínimas                      Mínimas  \n8           Funciones de alto orden  Reglas de inferencia lógica  \n9           Funciones de alto orden                   Predicados  \n10          Expresiones funcionales             Fórmulas lógicas  \n11          Funciones de alto orden  Reglas de inferencia lógica  \n12          Funciones de alto orden  Reglas de inferencia lógica  \n13          Funciones de alto orden  Reglas de inferencia lógica  \n14          Funciones de alto orden  Reglas de inferencia lógica  \n15          Funciones de alto orden  Reglas de inferencia lógica  \n16           Procesamiento de datos           Sistemas de lógica  \n17  Enfoque en funciones inmutables    Enfoque en reglas lógicas  \n18  Enfoque en funciones inmutables    Enfoque en reglas lógicas  ",
      "text/html": "<div>\n<style scoped>\n    .dataframe tbody tr th:only-of-type {\n        vertical-align: middle;\n    }\n\n    .dataframe tbody tr th {\n        vertical-align: top;\n    }\n\n    .dataframe thead th {\n        text-align: right;\n    }\n</style>\n<table border=\"1\" class=\"dataframe\">\n  <thead>\n    <tr style=\"text-align: right;\">\n      <th></th>\n      <th>Elemento</th>\n      <th>Estructurado</th>\n      <th>Orientado a objetos</th>\n      <th>Funcional</th>\n      <th>Lógico</th>\n    </tr>\n  </thead>\n  <tbody>\n    <tr>\n      <th>0</th>\n      <td>Tipos de datos</td>\n      <td>Primitivos simples</td>\n      <td>Objetos y clases</td>\n      <td>Funciones</td>\n      <td>Predicados</td>\n    </tr>\n    <tr>\n      <th>1</th>\n      <td>Variables</td>\n      <td>Variables simples</td>\n      <td>Atributos de objetos</td>\n      <td>Variables</td>\n      <td>Variables</td>\n    </tr>\n    <tr>\n      <th>2</th>\n      <td>Constantes</td>\n      <td>Constantes</td>\n      <td>Constantes</td>\n      <td>Variables</td>\n      <td>Variables</td>\n    </tr>\n    <tr>\n      <th>3</th>\n      <td>Literales</td>\n      <td>Valores literales</td>\n      <td>Objetos</td>\n      <td>Funciones</td>\n      <td>Predicados</td>\n    </tr>\n    <tr>\n      <th>4</th>\n      <td>Identificadores</td>\n      <td>Nombres de variables y funciones</td>\n      <td>Nombres de objetos y clases</td>\n      <td>Nombres de funciones</td>\n      <td>Nombres de variables</td>\n    </tr>\n    <tr>\n      <th>5</th>\n      <td>Comentarios</td>\n      <td>Comentarios de texto</td>\n      <td>Comentarios de texto</td>\n      <td>Comentarios</td>\n      <td>Comentarios</td>\n    </tr>\n    <tr>\n      <th>6</th>\n      <td>Estructura de un programa</td>\n      <td>Secuencia de instrucciones</td>\n      <td>Clases y objetos</td>\n      <td>Funciones de alto orden</td>\n      <td>Reglas de inferencia lógica</td>\n    </tr>\n    <tr>\n      <th>7</th>\n      <td>Palabras reservadas</td>\n      <td>Limitadas y específicas</td>\n      <td>Mínimas</td>\n      <td>Mínimas</td>\n      <td>Mínimas</td>\n    </tr>\n    <tr>\n      <th>8</th>\n      <td>Sentencias/instrucciones (sintaxis)</td>\n      <td>Estructuras de control (-if -for -while -etc.)</td>\n      <td>Métodos y funciones específicas para control d...</td>\n      <td>Funciones de alto orden</td>\n      <td>Reglas de inferencia lógica</td>\n    </tr>\n    <tr>\n      <th>9</th>\n      <td>Operadores</td>\n      <td>Operadores aritméticos y lógicos específicos</td>\n      <td>Métodos y funciones específicos para operaciones</td>\n      <td>Funciones de alto orden</td>\n      <td>Predicados</td>\n    </tr>\n    <tr>\n      <th>10</th>\n      <td>Expresiones</td>\n      <td>Expresiones aritméticas y lógicas específicas</td>\n      <td>Expresiones con objetos</td>\n      <td>Expresiones funcionales</td>\n      <td>Fórmulas lógicas</td>\n    </tr>\n    <tr>\n      <th>11</th>\n      <td>Entrada de datos</td>\n      <td>Lectura de teclado y archivos</td>\n      <td>Métodos y funciones específicas para entrada d...</td>\n      <td>Funciones de alto orden</td>\n      <td>Reglas de inferencia lógica</td>\n    </tr>\n    <tr>\n      <th>12</th>\n      <td>Salida de datos</td>\n      <td>Impresión en pantalla y archivos</td>\n      <td>Métodos y funciones específicas para salida de...</td>\n      <td>Funciones de alto orden</td>\n      <td>Reglas de inferencia lógica</td>\n    </tr>\n    <tr>\n      <th>13</th>\n      <td>Estructura de control: condicionales</td>\n      <td>-if -switch -etc.</td>\n      <td>Métodos y funciones específicas para control d...</td>\n      <td>Funciones de alto orden</td>\n      <td>Reglas de inferencia lógica</td>\n    </tr>\n    <tr>\n      <th>14</th>\n      <td>Estructura de control: iterativas</td>\n      <td>-for -while -etc.</td>\n      <td>Métodos y funciones específicas para bucles</td>\n      <td>Funciones de alto orden</td>\n      <td>Reglas de inferencia lógica</td>\n    </tr>\n    <tr>\n      <th>15</th>\n      <td>Métodos/funciones/procedimientos/subprogramas</td>\n      <td>Funciones</td>\n      <td>Métodos y funciones específicas para encapsula...</td>\n      <td>Funciones de alto orden</td>\n      <td>Reglas de inferencia lógica</td>\n    </tr>\n    <tr>\n      <th>16</th>\n      <td>Usos o aplicaciones</td>\n      <td>Amplia gama de aplicaciones</td>\n      <td>Desarrollo de software en objetos</td>\n      <td>Procesamiento de datos</td>\n      <td>Sistemas de lógica</td>\n    </tr>\n    <tr>\n      <th>17</th>\n      <td>Observaciones/Comentarios estudiante 1</td>\n      <td>Enfoque en estructura y procedimientos</td>\n      <td>Enfoque en encapsulamiento y herencia</td>\n      <td>Enfoque en funciones inmutables</td>\n      <td>Enfoque en reglas lógicas</td>\n    </tr>\n    <tr>\n      <th>18</th>\n      <td>Observaciones/Comentarios estudiante 2</td>\n      <td>Enfoque en estructura de control de flujo</td>\n      <td>NaN</td>\n      <td>Enfoque en funciones inmutables</td>\n      <td>Enfoque en reglas lógicas</td>\n    </tr>\n  </tbody>\n</table>\n</div>"
     },
     "execution_count": 16,
     "metadata": {},
     "output_type": "execute_result"
    }
   ],
   "source": [
    "df"
   ],
   "metadata": {
    "collapsed": false,
    "ExecuteTime": {
     "end_time": "2023-09-02T05:14:08.141947400Z",
     "start_time": "2023-09-02T05:14:08.120480200Z"
    }
   }
  },
  {
   "cell_type": "code",
   "execution_count": null,
   "outputs": [],
   "source": [],
   "metadata": {
    "collapsed": false
   }
  }
 ],
 "metadata": {
  "kernelspec": {
   "display_name": "Python 3",
   "language": "python",
   "name": "python3"
  },
  "language_info": {
   "codemirror_mode": {
    "name": "ipython",
    "version": 2
   },
   "file_extension": ".py",
   "mimetype": "text/x-python",
   "name": "python",
   "nbconvert_exporter": "python",
   "pygments_lexer": "ipython2",
   "version": "2.7.6"
  }
 },
 "nbformat": 4,
 "nbformat_minor": 0
}
